{
 "cells": [
  {
   "cell_type": "markdown",
   "id": "7196054f",
   "metadata": {},
   "source": [
    "# Working with APIs"
   ]
  },
  {
   "cell_type": "markdown",
   "id": "0547b71e",
   "metadata": {},
   "source": [
    "API stands for Application programming interface<br>\n",
    "APIs are a way for applications to talk to eachother<br>\n",
    "In python we use the requests package to handle the connection<br>\n",
    "<small><strong>Note: It is requests with an s not request(this is a different package)</strong></small><br>\n",
    "Most API's communicate with data in the form of JSON<br>\n",
    "JSON stands for JavaScript Object Notation"
   ]
  },
  {
   "cell_type": "code",
   "execution_count": 3,
   "id": "4db9d154",
   "metadata": {},
   "outputs": [],
   "source": [
    "#import the packages we need:\n",
    "import requests, json"
   ]
  },
  {
   "cell_type": "markdown",
   "id": "e8c2ce51",
   "metadata": {},
   "source": [
    "We will be connecting to the Ergast F1 Racer API today:\n",
    "http://ergast.com/mrd/\n",
    "\n",
    "to view JSON data nicely in the Chrome browser install the extension JSONview"
   ]
  },
  {
   "cell_type": "code",
   "execution_count": 3,
   "id": "52c440c6",
   "metadata": {},
   "outputs": [
    {
     "name": "stdout",
     "output_type": "stream",
     "text": [
      "Help on package requests:\n",
      "\n",
      "NAME\n",
      "    requests\n",
      "\n",
      "DESCRIPTION\n",
      "    Requests HTTP Library\n",
      "    ~~~~~~~~~~~~~~~~~~~~~\n",
      "    \n",
      "    Requests is an HTTP library, written in Python, for human beings.\n",
      "    Basic GET usage:\n",
      "    \n",
      "       >>> import requests\n",
      "       >>> r = requests.get('https://www.python.org')\n",
      "       >>> r.status_code\n",
      "       200\n",
      "       >>> b'Python is a programming language' in r.content\n",
      "       True\n",
      "    \n",
      "    ... or POST:\n",
      "    \n",
      "       >>> payload = dict(key1='value1', key2='value2')\n",
      "       >>> r = requests.post('https://httpbin.org/post', data=payload)\n",
      "       >>> print(r.text)\n",
      "       {\n",
      "         ...\n",
      "         \"form\": {\n",
      "           \"key1\": \"value1\",\n",
      "           \"key2\": \"value2\"\n",
      "         },\n",
      "         ...\n",
      "       }\n",
      "    \n",
      "    The other HTTP methods are supported - see `requests.api`. Full documentation\n",
      "    is at <https://requests.readthedocs.io>.\n",
      "    \n",
      "    :copyright: (c) 2017 by Kenneth Reitz.\n",
      "    :license: Apache 2.0, see LICENSE for more details.\n",
      "\n",
      "PACKAGE CONTENTS\n",
      "    __version__\n",
      "    _internal_utils\n",
      "    adapters\n",
      "    api\n",
      "    auth\n",
      "    certs\n",
      "    compat\n",
      "    cookies\n",
      "    exceptions\n",
      "    help\n",
      "    hooks\n",
      "    models\n",
      "    packages\n",
      "    sessions\n",
      "    status_codes\n",
      "    structures\n",
      "    utils\n",
      "\n",
      "FUNCTIONS\n",
      "    check_compatibility(urllib3_version, chardet_version, charset_normalizer_version)\n",
      "\n",
      "DATA\n",
      "    __author_email__ = 'me@kennethreitz.org'\n",
      "    __build__ = 141313\n",
      "    __cake__ = '✨ 🍰 ✨'\n",
      "    __copyright__ = 'Copyright 2022 Kenneth Reitz'\n",
      "    __description__ = 'Python HTTP for Humans.'\n",
      "    __license__ = 'Apache 2.0'\n",
      "    __title__ = 'requests'\n",
      "    __url__ = 'https://requests.readthedocs.io'\n",
      "    chardet_version = '4.0.0'\n",
      "    charset_normalizer_version = '2.0.4'\n",
      "    codes = <lookup 'status_codes'>\n",
      "\n",
      "VERSION\n",
      "    2.28.1\n",
      "\n",
      "AUTHOR\n",
      "    Kenneth Reitz\n",
      "\n",
      "FILE\n",
      "    c:\\users\\lexte\\anaconda3\\lib\\site-packages\\requests\\__init__.py\n",
      "\n",
      "\n"
     ]
    }
   ],
   "source": [
    "help(requests)"
   ]
  },
  {
   "cell_type": "code",
   "execution_count": 4,
   "id": "f60c1b4a",
   "metadata": {},
   "outputs": [],
   "source": [
    "URL = 'http://ergast.com/api/f1/2008/5/driverstandings.json'\n"
   ]
  },
  {
   "cell_type": "code",
   "execution_count": 6,
   "id": "7b63a204",
   "metadata": {},
   "outputs": [
    {
     "name": "stdout",
     "output_type": "stream",
     "text": [
      "<Response [200]>\n",
      "<class 'requests.models.Response'>\n"
     ]
    }
   ],
   "source": [
    "#response object\n",
    "response = requests.get('http://ergast.com/api/f1/2008/5/driverstandings.json')\n",
    "print(response)\n",
    "print(type(response))"
   ]
  },
  {
   "cell_type": "code",
   "execution_count": 3,
   "id": "c6d1fdaf",
   "metadata": {},
   "outputs": [],
   "source": [
    "#check and make sure we got a successful response from the API\n",
    "response.ok"
   ]
  },
  {
   "cell_type": "code",
   "execution_count": 4,
   "id": "ed4d3256",
   "metadata": {},
   "outputs": [],
   "source": [
    "#view the response as a JSON\n",
    "response.json()"
   ]
  },
  {
   "cell_type": "code",
   "execution_count": null,
   "id": "92e6cd2c",
   "metadata": {},
   "outputs": [],
   "source": [
    "type(response.json())"
   ]
  },
  {
   "cell_type": "code",
   "execution_count": 5,
   "id": "f074dfcf",
   "metadata": {},
   "outputs": [],
   "source": [
    "# We only want the Driver Standings\n",
    "data.response.json()"
   ]
  },
  {
   "cell_type": "code",
   "execution_count": null,
   "id": "be46a950",
   "metadata": {},
   "outputs": [],
   "source": [
    "https://ergast.com/api/f1/2008/5/results.json"
   ]
  },
  {
   "cell_type": "code",
   "execution_count": null,
   "id": "3740c752",
   "metadata": {},
   "outputs": [],
   "source": [
    "def driver_results(year, round):\n",
    "    url = f'https://ergast.com/api/f1/{year}/{round}/results.json'\n",
    "    response = requests.get(url)\n",
    "    data = response"
   ]
  },
  {
   "cell_type": "markdown",
   "id": "6d546014",
   "metadata": {},
   "source": [
    "# <strong>Homework</strong>\n",
    "check out this Pokemon API https://pokeapi.co/\n",
    "Use the requests package to connect to this API and get and store data for 5 different pokemon.\n",
    "Get the pokemons: name, atleast one ability's name, base_experience, and the URL for its sprite (an image that shows up on screen) for the 'front_shiny', attack base_state, hp base_stat, defense base_stat\n",
    "\n"
   ]
  },
  {
   "cell_type": "code",
   "execution_count": 5,
   "id": "5a9081e3",
   "metadata": {},
   "outputs": [],
   "source": [
    "import requests, json\n"
   ]
  },
  {
   "cell_type": "code",
   "execution_count": 12,
   "id": "b3b12404",
   "metadata": {},
   "outputs": [
    {
     "name": "stdout",
     "output_type": "stream",
     "text": [
      "{'name': ('golduck',), 'ability name': ({'ability': {'name': 'damp', 'url': 'https://pokeapi.co/api/v2/ability/6/'}, 'is_hidden': False, 'slot': 1},), 'base experience': (175,), 'front shiny': ('https://raw.githubusercontent.com/PokeAPI/sprites/master/sprites/pokemon/shiny/55.png',), 'hp base stat': ({'base_stat': 80, 'effort': 0, 'stat': {'name': 'hp', 'url': 'https://pokeapi.co/api/v2/stat/1/'}},), 'attack base state': ({'base_stat': 82, 'effort': 0, 'stat': {'name': 'attack', 'url': 'https://pokeapi.co/api/v2/stat/2/'}},), 'defense base stat': {'base_stat': 78, 'effort': 0, 'stat': {'name': 'defense', 'url': 'https://pokeapi.co/api/v2/stat/3/'}}}\n",
      "{'name': ('mankey',), 'ability name': ({'ability': {'name': 'vital-spirit', 'url': 'https://pokeapi.co/api/v2/ability/72/'}, 'is_hidden': False, 'slot': 1},), 'base experience': (61,), 'front shiny': ('https://raw.githubusercontent.com/PokeAPI/sprites/master/sprites/pokemon/shiny/56.png',), 'hp base stat': ({'base_stat': 40, 'effort': 0, 'stat': {'name': 'hp', 'url': 'https://pokeapi.co/api/v2/stat/1/'}},), 'attack base state': ({'base_stat': 80, 'effort': 1, 'stat': {'name': 'attack', 'url': 'https://pokeapi.co/api/v2/stat/2/'}},), 'defense base stat': {'base_stat': 35, 'effort': 0, 'stat': {'name': 'defense', 'url': 'https://pokeapi.co/api/v2/stat/3/'}}}\n",
      "{'name': ('primeape',), 'ability name': ({'ability': {'name': 'vital-spirit', 'url': 'https://pokeapi.co/api/v2/ability/72/'}, 'is_hidden': False, 'slot': 1},), 'base experience': (159,), 'front shiny': ('https://raw.githubusercontent.com/PokeAPI/sprites/master/sprites/pokemon/shiny/57.png',), 'hp base stat': ({'base_stat': 65, 'effort': 0, 'stat': {'name': 'hp', 'url': 'https://pokeapi.co/api/v2/stat/1/'}},), 'attack base state': ({'base_stat': 105, 'effort': 2, 'stat': {'name': 'attack', 'url': 'https://pokeapi.co/api/v2/stat/2/'}},), 'defense base stat': {'base_stat': 60, 'effort': 0, 'stat': {'name': 'defense', 'url': 'https://pokeapi.co/api/v2/stat/3/'}}}\n",
      "{'name': ('growlithe',), 'ability name': ({'ability': {'name': 'intimidate', 'url': 'https://pokeapi.co/api/v2/ability/22/'}, 'is_hidden': False, 'slot': 1},), 'base experience': (70,), 'front shiny': ('https://raw.githubusercontent.com/PokeAPI/sprites/master/sprites/pokemon/shiny/58.png',), 'hp base stat': ({'base_stat': 55, 'effort': 0, 'stat': {'name': 'hp', 'url': 'https://pokeapi.co/api/v2/stat/1/'}},), 'attack base state': ({'base_stat': 70, 'effort': 1, 'stat': {'name': 'attack', 'url': 'https://pokeapi.co/api/v2/stat/2/'}},), 'defense base stat': {'base_stat': 45, 'effort': 0, 'stat': {'name': 'defense', 'url': 'https://pokeapi.co/api/v2/stat/3/'}}}\n",
      "{'name': ('arcanine',), 'ability name': ({'ability': {'name': 'intimidate', 'url': 'https://pokeapi.co/api/v2/ability/22/'}, 'is_hidden': False, 'slot': 1},), 'base experience': (194,), 'front shiny': ('https://raw.githubusercontent.com/PokeAPI/sprites/master/sprites/pokemon/shiny/59.png',), 'hp base stat': ({'base_stat': 90, 'effort': 0, 'stat': {'name': 'hp', 'url': 'https://pokeapi.co/api/v2/stat/1/'}},), 'attack base state': ({'base_stat': 110, 'effort': 2, 'stat': {'name': 'attack', 'url': 'https://pokeapi.co/api/v2/stat/2/'}},), 'defense base stat': {'base_stat': 80, 'effort': 0, 'stat': {'name': 'defense', 'url': 'https://pokeapi.co/api/v2/stat/3/'}}}\n"
     ]
    }
   ],
   "source": [
    "def pokeinfo(pokemon):\n",
    "\n",
    "    res = requests.get(f\"https://pokeapi.co/api/v2/pokemon/{pokemon}/\")\n",
    "    data = res.json()\n",
    "    \n",
    "\n",
    "    x = dict()\n",
    "    x['name'] = data['name'],\n",
    "    x['ability name'] = data['abilities'][0],\n",
    "    x['base experience'] = data['base_experience'],\n",
    "    x['front shiny'] = data['sprites']['front_shiny'],\n",
    "    x['hp base stat'] = data['stats'][0],\n",
    "    x['attack base state'] = data['stats'][1],\n",
    "    x['defense base stat'] = data['stats'][2]\n",
    " \n",
    "    return x\n",
    "    \n",
    "for x in range(55, 60):\n",
    "    print(pokeinfo(f\"{x}\"))"
   ]
  },
  {
   "cell_type": "code",
   "execution_count": 7,
   "id": "118b0876",
   "metadata": {},
   "outputs": [
    {
     "ename": "NameError",
     "evalue": "name 'mew' is not defined",
     "output_type": "error",
     "traceback": [
      "\u001b[1;31m---------------------------------------------------------------------------\u001b[0m",
      "\u001b[1;31mNameError\u001b[0m                                 Traceback (most recent call last)",
      "\u001b[1;32m~\\AppData\\Local\\Temp\\ipykernel_5036\\956366782.py\u001b[0m in \u001b[0;36m<module>\u001b[1;34m\u001b[0m\n\u001b[1;32m----> 1\u001b[1;33m \u001b[0mmew\u001b[0m\u001b[1;33m\u001b[0m\u001b[1;33m\u001b[0m\u001b[0m\n\u001b[0m",
      "\u001b[1;31mNameError\u001b[0m: name 'mew' is not defined"
     ]
    }
   ],
   "source": []
  },
  {
   "cell_type": "code",
   "execution_count": null,
   "id": "38286fe9",
   "metadata": {},
   "outputs": [],
   "source": []
  }
 ],
 "metadata": {
  "kernelspec": {
   "display_name": "Python 3 (ipykernel)",
   "language": "python",
   "name": "python3"
  },
  "language_info": {
   "codemirror_mode": {
    "name": "ipython",
    "version": 3
   },
   "file_extension": ".py",
   "mimetype": "text/x-python",
   "name": "python",
   "nbconvert_exporter": "python",
   "pygments_lexer": "ipython3",
   "version": "3.9.13"
  }
 },
 "nbformat": 4,
 "nbformat_minor": 5
}
